{
 "cells": [
  {
   "cell_type": "markdown",
   "metadata": {},
   "source": [
    "Imports"
   ]
  },
  {
   "cell_type": "code",
   "execution_count": 38,
   "metadata": {},
   "outputs": [],
   "source": [
    "import torch\n",
    "import torch.nn as nn\n",
    "import pandas as pd\n",
    "from sklearn.decomposition import PCA\n",
    "import matplotlib.pyplot as plt\n",
    "from torch.utils.data import Dataset, DataLoader\n",
    "\n",
    "target = pd.read_csv('sample_submission.csv')\n",
    "test = pd.read_csv('test.csv')\n",
    "train = pd.read_csv('train.csv')"
   ]
  },
  {
   "cell_type": "markdown",
   "metadata": {},
   "source": [
    "MODEL"
   ]
  },
  {
   "cell_type": "code",
   "execution_count": 35,
   "metadata": {},
   "outputs": [],
   "source": [
    "class LogisticRegression(nn.Module):\n",
    "    def __init__(self, n_input=12, n_hidden=24, n_output=1) -> None:\n",
    "        super().__init__()\n",
    "\n",
    "        self.linear_1 = nn.Linear(n_input, n_hidden)\n",
    "        self.linear_2 = nn.Linear(n_input, n_output)\n",
    "\n",
    "        self.sigmoid = nn.Sigmoid()\n",
    "        self.softmax = nn.Softmax()\n",
    "\n",
    "    def forward(self,x):\n",
    "        x = self.linear_1(x)\n",
    "        x = self.sigmoid(x)\n",
    "        x = self.linear_2(x)\n",
    "        x = self.softmax(x)\n",
    "        return x\n"
   ]
  },
  {
   "cell_type": "markdown",
   "metadata": {},
   "source": [
    "Dataset"
   ]
  },
  {
   "cell_type": "code",
   "execution_count": 39,
   "metadata": {},
   "outputs": [],
   "source": [
    "class PassangerDataset(Dataset):\n",
    "    def __init__(self, dataframe):\n",
    "        self.dataframe = dataframe\n",
    "\n",
    "    def __getitem__(self, index):\n",
    "        row = self.dataframe.iloc[index].to_numpy()\n",
    "        features = row[1:]\n",
    "        label = row[0]\n",
    "        return features, label\n",
    "\n",
    "    def __len__(self):\n",
    "        return len(self.dataframe)"
   ]
  },
  {
   "cell_type": "markdown",
   "metadata": {},
   "source": [
    "Data cleaning"
   ]
  },
  {
   "cell_type": "code",
   "execution_count": 53,
   "metadata": {},
   "outputs": [
    {
     "data": {
      "text/plain": [
       "0          [B, 0, P]\n",
       "1          [F, 0, S]\n",
       "2          [A, 0, S]\n",
       "3          [A, 0, S]\n",
       "4          [F, 1, S]\n",
       "            ...     \n",
       "8688      [A, 98, P]\n",
       "8689    [G, 1499, S]\n",
       "8690    [G, 1500, S]\n",
       "8691     [E, 608, S]\n",
       "8692     [E, 608, S]\n",
       "Name: Cabin, Length: 8693, dtype: object"
      ]
     },
     "execution_count": 53,
     "metadata": {},
     "output_type": "execute_result"
    }
   ],
   "source": [
    "\n",
    "\n",
    "Y_train = train['Transported']\n",
    "X_train = train.drop(columns=['Name','Transported'])\n",
    "X_train['Cabin'].str.split('/')\n",
    "# cabin_1\n",
    "# X_train = pd.get_dummies(X_train,columns=['HomePlanet','Destination'])\n",
    "\n",
    "# X_train.head()\n",
    "\n",
    "# dataset = PassangerDataset(train)\n",
    "# dataloader = DataLoader(dataset)\n",
    "\n",
    "# for sample in dataloader:\n",
    "#     print(sample)\n",
    "\n",
    "# Y_train.head()\n",
    "# X_train = torch.tensor()"
   ]
  }
 ],
 "metadata": {
  "kernelspec": {
   "display_name": "venv",
   "language": "python",
   "name": "python3"
  },
  "language_info": {
   "codemirror_mode": {
    "name": "ipython",
    "version": 3
   },
   "file_extension": ".py",
   "mimetype": "text/x-python",
   "name": "python",
   "nbconvert_exporter": "python",
   "pygments_lexer": "ipython3",
   "version": "3.11.6"
  }
 },
 "nbformat": 4,
 "nbformat_minor": 2
}
