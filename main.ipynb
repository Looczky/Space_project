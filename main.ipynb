{
 "cells": [
  {
   "cell_type": "markdown",
   "metadata": {},
   "source": [
    "Imports"
   ]
  },
  {
   "cell_type": "code",
   "execution_count": 1,
   "metadata": {},
   "outputs": [],
   "source": [
    "import torch\n",
    "import torch.nn as nn\n",
    "import pandas as pd\n",
    "from sklearn.decomposition import PCA\n",
    "import matplotlib.pyplot as plt\n",
    "from torch.utils.data import Dataset, DataLoader, random_split\n",
    "import math"
   ]
  },
  {
   "cell_type": "markdown",
   "metadata": {},
   "source": [
    "MODEL"
   ]
  },
  {
   "cell_type": "code",
   "execution_count": 88,
   "metadata": {},
   "outputs": [],
   "source": [
    "class Nnet(nn.Module):\n",
    "    def __init__(self, n_input=47):\n",
    "        super(Nnet, self).__init__()\n",
    "        \n",
    "        self.fc_block = nn.Sequential(\n",
    "            nn.Dropout(0.8),\n",
    "            nn.Linear(n_input, 512),\n",
    "            nn.BatchNorm1d(512),\n",
    "            nn.LeakyReLU(),\n",
    "            \n",
    "            nn.Dropout(0.5),\n",
    "            nn.Linear(512, 128),\n",
    "            nn.BatchNorm1d(128),\n",
    "            nn.LeakyReLU(),\n",
    "            \n",
    "            nn.Dropout(0.5),\n",
    "            nn.Linear(128, 8),\n",
    "            nn.BatchNorm1d(8),\n",
    "            nn.LeakyReLU(),\n",
    "            \n",
    "            nn.Dropout(0.5),\n",
    "            nn.Linear(8, 1),\n",
    "            nn.Sigmoid()\n",
    "        )\n",
    "    def forward(self, x):\n",
    "        x = self.fc_block(x)\n",
    "        return x\n",
    "\n"
   ]
  },
  {
   "cell_type": "markdown",
   "metadata": {},
   "source": [
    "Dataset"
   ]
  },
  {
   "cell_type": "code",
   "execution_count": 33,
   "metadata": {},
   "outputs": [],
   "source": [
    "class PassangerDataset(Dataset):\n",
    "    def __init__(self):\n",
    "\n",
    "        self.train = pd.read_csv('train.csv', index_col='PassengerId')\n",
    "        \n",
    "        X_train = self.train.drop(columns=['Name'])\n",
    "        X_train[['Cabin_1', 'Cabin_2', 'Cabin_3']] = X_train['Cabin'].str.split('/').apply(pd.Series)\n",
    "        X_train.drop(columns='Cabin', inplace=True)\n",
    "\n",
    "        X_train['Cabin_2'] = X_train['Cabin_2'].astype(float)\n",
    "        for group in range(1,1901,100):\n",
    "            X_train[f'Cabin_2_{group}-{group+99}'] = (X_train['Cabin_2'] >= group) & (X_train['Cabin_2'] < (group+100))\n",
    "        \n",
    "        X_train = X_train.drop(columns='Cabin_2')\n",
    "\n",
    "        numeric_columns = X_train.select_dtypes(include=['float', 'int'])\n",
    "        \n",
    "        X_train.fillna(numeric_columns.mean(), inplace=True)\n",
    "        X_train.fillna(0.5, inplace=True)\n",
    "\n",
    "        X_train = pd.get_dummies(X_train, columns=['HomePlanet', 'Destination', 'Cabin_1', 'Cabin_3'])\n",
    "        self.y = torch.tensor(X_train['Transported'].values)\n",
    "        \n",
    "        x_float32 = X_train.drop('Transported', axis=1).values.astype('float32')\n",
    "        x_not_norm = torch.tensor(x_float32, dtype=torch.float32).view(-1, x_float32.shape[1])\n",
    "\n",
    "        min_vals = torch.min(x_not_norm, dim=0).values\n",
    "        max_vals = torch.max(x_not_norm, dim=0).values\n",
    "        normalized_matrix = (x_not_norm - min_vals) / (max_vals - min_vals)\n",
    "\n",
    "\n",
    "        self.x = normalized_matrix\n",
    "    def __getitem__(self, index):\n",
    "        return self.x[index],self.y[index]\n",
    "\n",
    "    def __len__(self):\n",
    "        return len(self.train)"
   ]
  },
  {
   "cell_type": "markdown",
   "metadata": {},
   "source": [
    "Utility functions"
   ]
  },
  {
   "cell_type": "code",
   "execution_count": 9,
   "metadata": {},
   "outputs": [],
   "source": [
    "def calculate_accuracy(model, dataloader):\n",
    "    correct = 0\n",
    "    total = 0\n",
    "    model.eval()\n",
    "    with torch.no_grad():\n",
    "        for inputs, labels in dataloader:\n",
    "            outputs = model(inputs)\n",
    "            predicted = (outputs >= 0.5).float()\n",
    "            labels = labels.view(-1,1)\n",
    "            total += labels.size(0)\n",
    "            correct += (predicted == labels).sum().item()\n",
    "    accuracy = 100 * correct / total\n",
    "    return accuracy"
   ]
  },
  {
   "cell_type": "markdown",
   "metadata": {},
   "source": [
    "Neural network training"
   ]
  },
  {
   "cell_type": "code",
   "execution_count": 106,
   "metadata": {},
   "outputs": [
    {
     "name": "stdout",
     "output_type": "stream",
     "text": [
      "Epoch 1 - Average Loss: 0.7646\n",
      "Testing Accuracy: 69.70%\n",
      "Epoch 2 - Average Loss: 0.6014\n",
      "Testing Accuracy: 69.87%\n",
      "Epoch 3 - Average Loss: 0.5377\n",
      "Testing Accuracy: 77.23%\n",
      "Epoch 4 - Average Loss: 0.5016\n",
      "Testing Accuracy: 78.09%\n",
      "Epoch 5 - Average Loss: 0.4854\n",
      "Testing Accuracy: 78.95%\n",
      "Epoch 6 - Average Loss: 0.4713\n",
      "Testing Accuracy: 78.78%\n",
      "Epoch 7 - Average Loss: 0.4623\n",
      "Testing Accuracy: 78.09%\n",
      "Epoch 8 - Average Loss: 0.4570\n",
      "Testing Accuracy: 79.07%\n",
      "Epoch 9 - Average Loss: 0.4529\n",
      "Testing Accuracy: 78.78%\n",
      "Epoch 10 - Average Loss: 0.4480\n",
      "Testing Accuracy: 79.93%\n",
      "Epoch 11 - Average Loss: 0.4473\n",
      "Testing Accuracy: 78.32%\n",
      "Epoch 12 - Average Loss: 0.4465\n",
      "Testing Accuracy: 79.59%\n",
      "Epoch 13 - Average Loss: 0.4459\n",
      "Testing Accuracy: 80.45%\n",
      "Epoch 14 - Average Loss: 0.4399\n",
      "Testing Accuracy: 79.76%\n",
      "Epoch 15 - Average Loss: 0.4431\n",
      "Testing Accuracy: 80.05%\n",
      "Epoch 16 - Average Loss: 0.4410\n",
      "Testing Accuracy: 80.68%\n",
      "Epoch 17 - Average Loss: 0.4394\n",
      "Testing Accuracy: 78.78%\n",
      "Epoch 18 - Average Loss: 0.4374\n",
      "Testing Accuracy: 79.30%\n",
      "Epoch 19 - Average Loss: 0.4361\n",
      "Testing Accuracy: 79.41%\n",
      "Epoch 20 - Average Loss: 0.4337\n",
      "Testing Accuracy: 79.30%\n",
      "Epoch 21 - Average Loss: 0.4360\n",
      "Testing Accuracy: 78.90%\n",
      "Epoch 22 - Average Loss: 0.4365\n",
      "Testing Accuracy: 79.93%\n",
      "Epoch 23 - Average Loss: 0.4346\n",
      "Testing Accuracy: 79.93%\n",
      "Epoch 24 - Average Loss: 0.4331\n",
      "Testing Accuracy: 80.22%\n",
      "Epoch 25 - Average Loss: 0.4322\n",
      "Testing Accuracy: 79.70%\n",
      "Epoch 26 - Average Loss: 0.4353\n",
      "Testing Accuracy: 79.93%\n",
      "Epoch 27 - Average Loss: 0.4311\n",
      "Testing Accuracy: 79.82%\n",
      "Epoch 28 - Average Loss: 0.4316\n",
      "Testing Accuracy: 79.64%\n",
      "Epoch 29 - Average Loss: 0.4339\n",
      "Testing Accuracy: 78.55%\n",
      "Epoch 30 - Average Loss: 0.4335\n",
      "Testing Accuracy: 80.10%\n",
      "Training completed.\n"
     ]
    }
   ],
   "source": [
    "dataset = PassangerDataset()\n",
    "\n",
    "total_samples = len(dataset)\n",
    "train_size = int(0.8 * total_samples)\n",
    "\n",
    "train_dataset, test_dataset = random_split(dataset, [train_size, total_samples - train_size])\n",
    "\n",
    "batch_size = 10\n",
    "train_dataloader = DataLoader(dataset=train_dataset, batch_size=batch_size, shuffle=True, num_workers=2)\n",
    "test_dataloader = DataLoader(dataset=test_dataset, batch_size=batch_size, shuffle=False, num_workers=2)\n",
    "\n",
    "\n",
    "model = Nnet(47)\n",
    "loss_function = nn.BCELoss()\n",
    "optimizer = torch.optim.Adam(model.parameters(),lr=0.01)\n",
    "\n",
    "total_samples = len(train_dataset)\n",
    "n_iterations = math.ceil(total_samples/batch_size)\n",
    "\n",
    "num_epochs = 30\n",
    "loss_history = []\n",
    "for epoch in range(num_epochs):\n",
    "    total_loss = 0.0\n",
    "\n",
    "    for i, (inputs, labels) in enumerate(train_dataloader):\n",
    "        # Forward pass\n",
    "        \n",
    "        optimizer.zero_grad()\n",
    "\n",
    "        y_predicted = model(inputs)\n",
    "        y = labels.float().view(-1,1)\n",
    "\n",
    "        loss = loss_function(y_predicted, y)\n",
    "\n",
    "        loss_history.append(loss.item())\n",
    "\n",
    "        l2_lambda = 0.001  # Adjust this regularization strength as needed\n",
    "        l2_reg = torch.tensor(0.)\n",
    "        for param in model.parameters():\n",
    "            l2_reg += torch.norm(param)\n",
    "        \n",
    "        loss += l2_lambda * l2_reg\n",
    "\n",
    "        # Backpropagation and optimization\n",
    "        loss.backward()\n",
    "        optimizer.step()\n",
    "\n",
    "        total_loss += loss.item()\n",
    "\n",
    "\n",
    "    average_loss = total_loss / n_iterations\n",
    "    print(f'Epoch {epoch + 1} - Average Loss: {average_loss:.4f}')\n",
    "\n",
    "    test_accuracy = calculate_accuracy(model,test_dataloader)\n",
    "    print(f'Testing Accuracy: {test_accuracy:.2f}%')\n",
    "\n",
    "print('Training completed.')\n"
   ]
  },
  {
   "cell_type": "markdown",
   "metadata": {},
   "source": [
    "Test data cleaning"
   ]
  },
  {
   "cell_type": "code",
   "execution_count": 95,
   "metadata": {},
   "outputs": [],
   "source": [
    "test = pd.read_csv('test.csv')\n",
    "test_passenger_ids = test['PassengerId']\n",
    "\n",
    "\n",
    "X_test = test.drop(columns=['Name','PassengerId'])\n",
    "X_test[['Cabin_1', 'Cabin_2', 'Cabin_3']] = X_test['Cabin'].str.split('/').apply(pd.Series)\n",
    "X_test.drop(columns='Cabin', inplace=True)\n",
    "\n",
    "X_test['Cabin_2'] = X_test['Cabin_2'].astype(float)\n",
    "for group in range(1,1901,100):\n",
    "    X_test[f'Cabin_2_{group}-{group+99}'] = (X_test['Cabin_2'] >= group) & (X_test['Cabin_2'] < (group+100))\n",
    "X_test = X_test.drop(columns='Cabin_2')\n",
    "\n",
    "numeric_columns = X_test.select_dtypes(include=['float', 'int'])\n",
    "X_test.fillna(numeric_columns.mean(), inplace=True)\n",
    "X_test.fillna(0.5, inplace=True)\n",
    "\n",
    "X_test = pd.get_dummies(X_test, columns=['HomePlanet', 'Destination', 'Cabin_1', 'Cabin_3'])\n",
    "x_float32 = X_test.values.astype('float32')\n",
    "X_test = torch.tensor(x_float32,dtype=torch.float32,requires_grad=True)\n"
   ]
  },
  {
   "cell_type": "markdown",
   "metadata": {},
   "source": [
    "Submission"
   ]
  },
  {
   "cell_type": "code",
   "execution_count": 96,
   "metadata": {},
   "outputs": [],
   "source": [
    "import csv\n",
    "\n",
    "with torch.no_grad():\n",
    "    predictions = model(X_test)\n",
    "    predictions = (predictions >= 0.5)\n",
    "predictions = predictions.squeeze()\n",
    "predictions = predictions.numpy()\n",
    "with open('submission.csv','w') as f:\n",
    "    writer = csv.writer(f)\n",
    "    header = ['PassengerId','Transported']\n",
    "    writer.writerow(header)\n",
    "    f.flush()\n",
    "    writer.writerows(zip(test_passenger_ids,predictions))\n",
    "    f.flush()"
   ]
  },
  {
   "cell_type": "markdown",
   "metadata": {},
   "source": [
    "Loss history"
   ]
  },
  {
   "cell_type": "code",
   "execution_count": 98,
   "metadata": {},
   "outputs": [
    {
     "data": {
      "text/plain": [
       "[<matplotlib.lines.Line2D at 0x7fa6f73fc650>]"
      ]
     },
     "execution_count": 98,
     "metadata": {},
     "output_type": "execute_result"
    },
    {
     "data": {
      "image/png": "[encoded data removed]",
      "text/plain": [
       "<Figure size 640x480 with 1 Axes>"
      ]
     },
     "metadata": {},
     "output_type": "display_data"
    }
   ],
   "source": [
    "plt.plot(loss_history)"
   ]
  },
  {
   "cell_type": "code",
   "execution_count": null,
   "metadata": {},
   "outputs": [],
   "source": []
  }
 ],
 "metadata": {
  "kernelspec": {
   "display_name": "venv",
   "language": "python",
   "name": "python3"
  },
  "language_info": {
   "codemirror_mode": {
    "name": "ipython",
    "version": 3
   },
   "file_extension": ".py",
   "mimetype": "text/x-python",
   "name": "python",
   "nbconvert_exporter": "python",
   "pygments_lexer": "ipython3",
   "version": "3.11.6"
  }
 },
 "nbformat": 4,
 "nbformat_minor": 2
}
